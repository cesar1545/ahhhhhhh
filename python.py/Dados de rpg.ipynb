{
 "cells": [
  {
   "cell_type": "code",
   "execution_count": 2,
   "metadata": {},
   "outputs": [
    {
     "name": "stdout",
     "output_type": "stream",
     "text": [
      "9\n"
     ]
    }
   ],
   "source": [
    "import random\n",
    "\n",
    "# Ask user for the type of they want!\n",
    "dice_type = int(input(\"Pick a Dice type: \\n1. D4\\n2. D6\\n3. D8\\n4. D10\\n5. D12\\n6. D20\\n7. D100\\n\\n\"))\n",
    "\n",
    "# use switch cases introduced in Python 3.10\n",
    "match dice_type:\n",
    "    case 1:\n",
    "        number = random.randint(1, 4)\n",
    "        print(number)\n",
    "    case 2:\n",
    "        number = random.randint(1, 6)\n",
    "        print(number)\n",
    "    case 3:\n",
    "        number = random.randint(1, 8)\n",
    "        print(number)\n",
    "    case 4:\n",
    "        number = random.randint(1, 10)\n",
    "        print(number)\n",
    "    case 5:\n",
    "        number = random.randint(1, 12)\n",
    "        print(number)\n",
    "    case 6:\n",
    "        number = random.randint(1, 20)\n",
    "        print(number)\n",
    "    case 7:\n",
    "        number = random.randint(1, 100)\n",
    "        print(number)\n",
    "    case _:\n",
    "        print(\"Not a valid option, Adios <3\")\n",
    "        exit()"
   ]
  }
 ],
 "metadata": {
  "kernelspec": {
   "display_name": "Python 3",
   "language": "python",
   "name": "python3"
  },
  "language_info": {
   "codemirror_mode": {
    "name": "ipython",
    "version": 3
   },
   "file_extension": ".py",
   "mimetype": "text/x-python",
   "name": "python",
   "nbconvert_exporter": "python",
   "pygments_lexer": "ipython3",
   "version": "3.11.2"
  },
  "orig_nbformat": 4
 },
 "nbformat": 4,
 "nbformat_minor": 2
}
