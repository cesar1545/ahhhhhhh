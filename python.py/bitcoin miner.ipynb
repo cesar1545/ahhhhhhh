{
 "cells": [
  {
   "cell_type": "code",
   "execution_count": 1,
   "metadata": {},
   "outputs": [
    {
     "name": "stdout",
     "output_type": "stream",
     "text": [
      "start mining\n",
      "Yay! Successfully mined bitcoins with nonce value:9830020\n",
      "end mining. Mining took: 24.01771593093872 seconds\n",
      "000000e540afedb5911ddb8efe15836fd9a0b71a1b60406b3115f6c903ef77a3\n"
     ]
    }
   ],
   "source": [
    "from hashlib import sha256\n",
    "import time\n",
    "\n",
    "## maximum number of Iteration of the Nonce\n",
    "MAX_NONCE = 100000000000\n",
    "\n",
    "\n",
    "## defining the hashing function\n",
    "\n",
    "\n",
    "def SHA256(text):\n",
    "    return sha256(text.encode(\"ascii\")).hexdigest()\n",
    "\n",
    "\n",
    "## mining the block\n",
    "\n",
    "\n",
    "def mine(block_number, transactions, previous_hash, prefix_zeros):\n",
    "    prefix_str = \"0\" * prefix_zeros\n",
    "    for nonce in range(MAX_NONCE):\n",
    "        text = str(block_number) + transactions + previous_hash + str(nonce)\n",
    "        new_hash = SHA256(text)\n",
    "        if new_hash.startswith(prefix_str):\n",
    "            print(f\"Yay! Successfully mined bitcoins with nonce value:{nonce}\")\n",
    "            return new_hash\n",
    "\n",
    "    raise BaseException(f\"Couldn't find correct has after trying {MAX_NONCE} times\")\n",
    "\n",
    "\n",
    "if __name__ == \"__main__\":\n",
    "    transactions = \"\"\"\n",
    "    Player1->Player2->200,\n",
    "    Player3->Player4->450\n",
    "    \"\"\"\n",
    "    difficulty = 6\n",
    "    # try changing this to higher number and you will see it will take more time for mining as difficulty increases\n",
    "\n",
    "    # checking the time took by the program\n",
    "    start = time.time()\n",
    "    print(\"start mining\")\n",
    "    new_hash = mine(\n",
    "        5,\n",
    "        transactions,\n",
    "        \"0000000xa036944e29568d0cff17edbe038f81208fecf9a66be9a2b8321c6ec7\",\n",
    "        difficulty,\n",
    "    )\n",
    "    total_time = str((time.time() - start))\n",
    "    print(f\"end mining. Mining took: {total_time} seconds\")\n",
    "    print(new_hash)"
   ]
  }
 ],
 "metadata": {
  "kernelspec": {
   "display_name": "Python 3",
   "language": "python",
   "name": "python3"
  },
  "language_info": {
   "codemirror_mode": {
    "name": "ipython",
    "version": 3
   },
   "file_extension": ".py",
   "mimetype": "text/x-python",
   "name": "python",
   "nbconvert_exporter": "python",
   "pygments_lexer": "ipython3",
   "version": "3.11.2"
  },
  "orig_nbformat": 4
 },
 "nbformat": 4,
 "nbformat_minor": 2
}
