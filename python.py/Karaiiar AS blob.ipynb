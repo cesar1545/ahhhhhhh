{
 "cells": [
  {
   "cell_type": "code",
   "execution_count": 1,
   "metadata": {},
   "outputs": [
    {
     "name": "stdout",
     "output_type": "stream",
     "text": [
      "Requirement already satisfied: speechrecognition in c:\\users\\black dell\\appdata\\local\\programs\\python\\python311\\lib\\site-packages (3.10.0)\n",
      "Requirement already satisfied: pyttsx3 in c:\\users\\black dell\\appdata\\local\\programs\\python\\python311\\lib\\site-packages (2.90)\n",
      "Requirement already satisfied: requests>=2.26.0 in c:\\users\\black dell\\appdata\\local\\programs\\python\\python311\\lib\\site-packages (from speechrecognition) (2.30.0)\n",
      "Requirement already satisfied: comtypes in c:\\users\\black dell\\appdata\\local\\programs\\python\\python311\\lib\\site-packages (from pyttsx3) (1.1.14)\n",
      "Requirement already satisfied: pypiwin32 in c:\\users\\black dell\\appdata\\local\\programs\\python\\python311\\lib\\site-packages (from pyttsx3) (223)\n",
      "Requirement already satisfied: pywin32 in c:\\users\\black dell\\appdata\\roaming\\python\\python311\\site-packages (from pyttsx3) (306)\n",
      "Requirement already satisfied: charset-normalizer<4,>=2 in c:\\users\\black dell\\appdata\\local\\programs\\python\\python311\\lib\\site-packages (from requests>=2.26.0->speechrecognition) (3.1.0)\n",
      "Requirement already satisfied: idna<4,>=2.5 in c:\\users\\black dell\\appdata\\local\\programs\\python\\python311\\lib\\site-packages (from requests>=2.26.0->speechrecognition) (3.4)\n",
      "Requirement already satisfied: urllib3<3,>=1.21.1 in c:\\users\\black dell\\appdata\\local\\programs\\python\\python311\\lib\\site-packages (from requests>=2.26.0->speechrecognition) (2.0.2)\n",
      "Requirement already satisfied: certifi>=2017.4.17 in c:\\users\\black dell\\appdata\\local\\programs\\python\\python311\\lib\\site-packages (from requests>=2.26.0->speechrecognition) (2023.5.7)\n",
      "Note: you may need to restart the kernel to use updated packages.\n"
     ]
    },
    {
     "name": "stderr",
     "output_type": "stream",
     "text": [
      "\n",
      "[notice] A new release of pip available: 22.3.1 -> 23.1.2\n",
      "[notice] To update, run: python.exe -m pip install --upgrade pip\n"
     ]
    }
   ],
   "source": [
    "pip install speechrecognition pyttsx3"
   ]
  },
  {
   "cell_type": "code",
   "execution_count": 2,
   "metadata": {},
   "outputs": [
    {
     "name": "stdout",
     "output_type": "stream",
     "text": [
      "Diga algo...\n",
      "Você disse: olá olá\n",
      "Diga algo...\n",
      "Você disse: Qual o seu nome\n",
      "Diga algo...\n",
      "Você disse: até mais\n",
      "Diga algo...\n",
      "Você disse: até mais\n",
      "Diga algo...\n",
      "Não foi possível reconhecer a fala\n"
     ]
    },
    {
     "ename": "TypeError",
     "evalue": "argument of type 'NoneType' is not iterable",
     "output_type": "error",
     "traceback": [
      "\u001b[1;31m---------------------------------------------------------------------------\u001b[0m",
      "\u001b[1;31mTypeError\u001b[0m                                 Traceback (most recent call last)",
      "Cell \u001b[1;32mIn[2], line 47\u001b[0m\n\u001b[0;32m     44\u001b[0m             falar(\u001b[39m\"\u001b[39m\u001b[39mDesculpe, não entendi o que você disse.\u001b[39m\u001b[39m\"\u001b[39m)\n\u001b[0;32m     46\u001b[0m \u001b[39mif\u001b[39;00m \u001b[39m__name__\u001b[39m \u001b[39m==\u001b[39m \u001b[39m\"\u001b[39m\u001b[39m__main__\u001b[39m\u001b[39m\"\u001b[39m:\n\u001b[1;32m---> 47\u001b[0m     main()\n",
      "Cell \u001b[1;32mIn[2], line 36\u001b[0m, in \u001b[0;36mmain\u001b[1;34m()\u001b[0m\n\u001b[0;32m     33\u001b[0m frase \u001b[39m=\u001b[39m ouvir()\n\u001b[0;32m     35\u001b[0m \u001b[39m# Verificar a frase e fornecer a resposta adequada\u001b[39;00m\n\u001b[1;32m---> 36\u001b[0m \u001b[39mif\u001b[39;00m \u001b[39m\"\u001b[39;49m\u001b[39molá\u001b[39;49m\u001b[39m\"\u001b[39;49m \u001b[39min\u001b[39;49;00m frase:\n\u001b[0;32m     37\u001b[0m     falar(\u001b[39m\"\u001b[39m\u001b[39mOlá! Como posso ajudar?\u001b[39m\u001b[39m\"\u001b[39m)\n\u001b[0;32m     38\u001b[0m \u001b[39melif\u001b[39;00m \u001b[39m\"\u001b[39m\u001b[39mqual é o seu nome\u001b[39m\u001b[39m\"\u001b[39m \u001b[39min\u001b[39;00m frase:\n",
      "\u001b[1;31mTypeError\u001b[0m: argument of type 'NoneType' is not iterable"
     ]
    }
   ],
   "source": [
    "import speech_recognition as sr\n",
    "import pyttsx3\n",
    "\n",
    "# Inicializar o reconhecimento de fala\n",
    "r = sr.Recognizer()\n",
    "\n",
    "# Inicializar o mecanismo de síntese de fala\n",
    "engine = pyttsx3.init()\n",
    "\n",
    "# Função para ouvir e reconhecer a fala\n",
    "def ouvir():\n",
    "    with sr.Microphone() as source:\n",
    "        print(\"Diga algo...\")\n",
    "        audio = r.listen(source)\n",
    "\n",
    "        try:\n",
    "            texto = r.recognize_google(audio, language=\"pt-BR\")\n",
    "            print(\"Você disse: \" + texto)\n",
    "            return texto\n",
    "        except sr.UnknownValueError:\n",
    "            print(\"Não foi possível reconhecer a fala\")\n",
    "        except sr.RequestError as e:\n",
    "            print(\"Erro ao tentar obter a fala; {0}\".format(e))\n",
    "\n",
    "# Função para falar a resposta\n",
    "def falar(texto):\n",
    "    engine.say(texto)\n",
    "    engine.runAndWait()\n",
    "\n",
    "# Função principal\n",
    "def main():\n",
    "    while True:\n",
    "        frase = ouvir()\n",
    "        \n",
    "        # Verificar a frase e fornecer a resposta adequada\n",
    "        if \"olá\" in frase:\n",
    "            falar(\"Olá! Como posso ajudar?\")\n",
    "        elif \"qual é o seu nome\" in frase:\n",
    "            falar(\"Meu nome é Assistente Virtual.\")\n",
    "        elif \"tchau\" in frase:\n",
    "            falar(\"Até mais!\")\n",
    "            break\n",
    "        else:\n",
    "            falar(\"Desculpe, não entendi o que você disse.\")\n",
    "\n",
    "if __name__ == \"__main__\":\n",
    "    main()"
   ]
  }
 ],
 "metadata": {
  "kernelspec": {
   "display_name": "Python 3",
   "language": "python",
   "name": "python3"
  },
  "language_info": {
   "codemirror_mode": {
    "name": "ipython",
    "version": 3
   },
   "file_extension": ".py",
   "mimetype": "text/x-python",
   "name": "python",
   "nbconvert_exporter": "python",
   "pygments_lexer": "ipython3",
   "version": "3.11.2"
  },
  "orig_nbformat": 4
 },
 "nbformat": 4,
 "nbformat_minor": 2
}
