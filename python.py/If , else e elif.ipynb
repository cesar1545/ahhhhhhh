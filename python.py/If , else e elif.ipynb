{
 "cells": [
  {
   "attachments": {},
   "cell_type": "markdown",
   "metadata": {},
   "source": [
    "# Testes e fixacão\n"
   ]
  },
  {
   "cell_type": "code",
   "execution_count": 13,
   "metadata": {},
   "outputs": [
    {
     "name": "stdout",
     "output_type": "stream",
     "text": [
      "Your secret number is: 15\n"
     ]
    }
   ],
   "source": [
    "One = int(input(\"Type a number between 1 and 10: \"))\n",
    "Two = int(input('Type a number between 1 and 10: '))\n",
    "if (One >= 1) and (One <= 10):\n",
    "   if (Two >= 1) and (One <= 10):\n",
    "      print ('Your secret number is:', One * Two)\n",
    "   else:\n",
    "      print (\"Incorrect second value!\")\n",
    "else:\n",
    "   print('Incorrect first value!')\n"
   ]
  },
  {
   "attachments": {},
   "cell_type": "markdown",
   "metadata": {},
   "source": [
    "# Teste acima de if, else e elif\n"
   ]
  }
 ],
 "metadata": {
  "kernelspec": {
   "display_name": "Python 3",
   "language": "python",
   "name": "python3"
  },
  "language_info": {
   "codemirror_mode": {
    "name": "ipython",
    "version": 3
   },
   "file_extension": ".py",
   "mimetype": "text/x-python",
   "name": "python",
   "nbconvert_exporter": "python",
   "pygments_lexer": "ipython3",
   "version": "3.11.2"
  },
  "orig_nbformat": 4
 },
 "nbformat": 4,
 "nbformat_minor": 2
}
