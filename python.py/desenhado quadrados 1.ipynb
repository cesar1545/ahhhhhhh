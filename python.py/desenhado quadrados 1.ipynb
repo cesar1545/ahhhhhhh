{
 "cells": [
  {
   "cell_type": "code",
   "execution_count": 1,
   "metadata": {},
   "outputs": [],
   "source": [
    "import turtle\n",
    "\n",
    "def desenhaQuadrado(t, tam):\n",
    "    \"\"\"Faca a tartaruga t desenhar um quadrado de lado tam.\"\"\"\n",
    "\n",
    "    for i in range(4):\n",
    "        t.forward(tam)\n",
    "        t.left(90)\n",
    "\n",
    "\n",
    "wn = turtle.Screen()              # Inicializa a janela e seus atributos\n",
    "wn.bgcolor(\"lightgreen\")\n",
    "\n",
    "alex = turtle.Turtle()            # cria alex\n",
    "desenhaQuadrado(alex, 50)         # Chama a função para desenhar um quadrado\n",
    "\n",
    "wn.exitonclick()\n"
   ]
  }
 ],
 "metadata": {
  "kernelspec": {
   "display_name": "Python 3",
   "language": "python",
   "name": "python3"
  },
  "language_info": {
   "codemirror_mode": {
    "name": "ipython",
    "version": 3
   },
   "file_extension": ".py",
   "mimetype": "text/x-python",
   "name": "python",
   "nbconvert_exporter": "python",
   "pygments_lexer": "ipython3",
   "version": "3.11.2"
  },
  "orig_nbformat": 4
 },
 "nbformat": 4,
 "nbformat_minor": 2
}
