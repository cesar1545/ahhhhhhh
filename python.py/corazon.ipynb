{
 "cells": [
  {
   "cell_type": "code",
   "execution_count": 2,
   "metadata": {},
   "outputs": [],
   "source": [
    "wn = turtle.Screen()\n",
    "wn.setup(width=400, height=400)\n",
    "red = turtle.Turtle() # Assigning \"Red\" as name of the turtle\n",
    "\n",
    "def curve(): # Method to draw curve\n",
    "    for i in range(200): # To draw the curve step by step\n",
    "        red.right(1)\n",
    "        red.forward(1)\n",
    "\n",
    "def heart():  # Method to draw full Heart\n",
    "    red.fillcolor('red')\n",
    "    red.begin_fill()\n",
    "    red.left(140)\n",
    "    red.forward(113)\n",
    "    curve() # Left Curve\n",
    "    red.left(120)\n",
    "    curve() # Right Curve\n",
    "    red.forward(112)\n",
    "    red.end_fill()\n",
    "\n",
    "heart()\n",
    "red.ht() # Hiding Turtle\n",
    "turtle.done()"
   ]
  },
  {
   "cell_type": "code",
   "execution_count": 1,
   "metadata": {},
   "outputs": [],
   "source": [
    "import turtle"
   ]
  }
 ],
 "metadata": {
  "kernelspec": {
   "display_name": "Python 3",
   "language": "python",
   "name": "python3"
  },
  "language_info": {
   "codemirror_mode": {
    "name": "ipython",
    "version": 3
   },
   "file_extension": ".py",
   "mimetype": "text/x-python",
   "name": "python",
   "nbconvert_exporter": "python",
   "pygments_lexer": "ipython3",
   "version": "3.11.2"
  },
  "orig_nbformat": 4
 },
 "nbformat": 4,
 "nbformat_minor": 2
}
