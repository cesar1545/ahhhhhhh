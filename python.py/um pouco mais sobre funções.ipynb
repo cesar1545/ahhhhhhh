{
 "cells": [
  {
   "cell_type": "code",
   "execution_count": 1,
   "metadata": {},
   "outputs": [],
   "source": [
    "def num_cascate1(n):\n",
    "    for x in range(1,n+1):\n",
    "        print(end ='\\n')\n",
    "        for y in range(1,n+1):\n",
    "            if x >= y:\n",
    "                print(x, end ='')"
   ]
  },
  {
   "cell_type": "code",
   "execution_count": 2,
   "metadata": {},
   "outputs": [
    {
     "name": "stdout",
     "output_type": "stream",
     "text": [
      "\n",
      "1\n",
      "22\n",
      "333\n",
      "4444\n",
      "55555"
     ]
    }
   ],
   "source": [
    "num_cascate1(5)\n"
   ]
  },
  {
   "cell_type": "code",
   "execution_count": 3,
   "metadata": {},
   "outputs": [],
   "source": [
    "def num_cascate2(n):\n",
    "    for x in range(1,n+1):\n",
    "        print(x , end ='\\n')\n",
    "        if x == n:\n",
    "            break\n",
    "        else:\n",
    "            for y in range(1,n+1):\n",
    "                if x >= y:\n",
    "                    print(y, end='')"
   ]
  },
  {
   "cell_type": "code",
   "execution_count": 4,
   "metadata": {},
   "outputs": [
    {
     "name": "stdout",
     "output_type": "stream",
     "text": [
      "1\n",
      "12\n",
      "123\n",
      "1234\n",
      "12345\n",
      "123456\n",
      "1234567\n",
      "12345678\n",
      "123456789\n"
     ]
    }
   ],
   "source": [
    "num_cascate2(9)\n",
    "\n",
    "        "
   ]
  },
  {
   "cell_type": "code",
   "execution_count": 5,
   "metadata": {},
   "outputs": [],
   "source": [
    "def sum_mult(a,b,c):\n",
    "    return a+b+c,a*b*c"
   ]
  },
  {
   "cell_type": "code",
   "execution_count": 6,
   "metadata": {},
   "outputs": [],
   "source": [
    "sum_, mult = sum_mult(10,20,30)"
   ]
  },
  {
   "cell_type": "code",
   "execution_count": 7,
   "metadata": {},
   "outputs": [
    {
     "name": "stdout",
     "output_type": "stream",
     "text": [
      "60\n",
      "6000\n"
     ]
    }
   ],
   "source": [
    "print(sum_)\n",
    "print(mult)"
   ]
  },
  {
   "cell_type": "code",
   "execution_count": 8,
   "metadata": {},
   "outputs": [],
   "source": [
    "def num(x):\n",
    "    if x > 0:\n",
    "        valor = 'P'\n",
    "    elif x < 0:\n",
    "        valor = 'N'\n",
    "    else:\n",
    "        valor ='O'\n",
    "    return valor"
   ]
  },
  {
   "cell_type": "code",
   "execution_count": 9,
   "metadata": {},
   "outputs": [
    {
     "data": {
      "text/plain": [
       "'P'"
      ]
     },
     "execution_count": 9,
     "metadata": {},
     "output_type": "execute_result"
    }
   ],
   "source": [
    "num(7)"
   ]
  },
  {
   "cell_type": "code",
   "execution_count": 10,
   "metadata": {},
   "outputs": [
    {
     "name": "stdout",
     "output_type": "stream",
     "text": [
      "25 de Outubro de 2019\n"
     ]
    }
   ],
   "source": [
    "meses = ['Janeiro','Fevereiro','Março','Abril','Maio','Junho','Julho','Agosto','Setembro','Outubro','Novembro','Dezembro']\n",
    "def validade(data):\n",
    "    if data[2]!='/' and data[5]!='/' and len(data)!=10:\n",
    "        print('Data inválida!')\n",
    "    else:\n",
    "        mes = int(data[3:5])\n",
    "        print(data[:2]+ ' de '+ meses[mes-1] + ' de ' +data[-4:])\n",
    "    \n",
    "\n",
    "x = '25/10/2019'\n",
    "validade(x)"
   ]
  },
  {
   "cell_type": "code",
   "execution_count": 12,
   "metadata": {},
   "outputs": [
    {
     "name": "stdout",
     "output_type": "stream",
     "text": [
      "25/10/2019\n",
      "October-2019\n"
     ]
    }
   ],
   "source": [
    "\n",
    "import datetime\n",
    "def validate(date_text):\n",
    "\n",
    "    try:\n",
    "        datetime.datetime.strptime(date_text, '%d/%m/%Y')\n",
    "        return datetime.datetime.strptime(x, '%d/%m/%Y').strftime('%B-%Y')\n",
    "    except ValueError:\n",
    "        return\n",
    "\n",
    "x = '25/10/2019'\n",
    "\n",
    "print(x)\n",
    "print(validate(x))"
   ]
  }
 ],
 "metadata": {
  "kernelspec": {
   "display_name": "Python 3",
   "language": "python",
   "name": "python3"
  },
  "language_info": {
   "codemirror_mode": {
    "name": "ipython",
    "version": 3
   },
   "file_extension": ".py",
   "mimetype": "text/x-python",
   "name": "python",
   "nbconvert_exporter": "python",
   "pygments_lexer": "ipython3",
   "version": "3.11.2"
  },
  "orig_nbformat": 4
 },
 "nbformat": 4,
 "nbformat_minor": 2
}
