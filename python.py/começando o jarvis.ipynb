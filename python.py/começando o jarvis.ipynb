{
 "cells": [
  {
   "cell_type": "code",
   "execution_count": 13,
   "metadata": {},
   "outputs": [],
   "source": [
    "import pyttsx3\n",
    "engine = pyttsx3.init()\n",
    "engine.say('HELLO SIR CESAR')\n",
    "engine.runAndWait()"
   ]
  },
  {
   "cell_type": "code",
   "execution_count": 14,
   "metadata": {},
   "outputs": [
    {
     "name": "stdout",
     "output_type": "stream",
     "text": [
      "125\n"
     ]
    }
   ],
   "source": [
    "speaker = pyttsx3.init()\n",
    "rate = speaker.getProperty('rate')   \n",
    "print(rate)\n",
    "speaker.setProperty('rate', 125)"
   ]
  },
  {
   "cell_type": "code",
   "execution_count": 15,
   "metadata": {},
   "outputs": [
    {
     "name": "stdout",
     "output_type": "stream",
     "text": [
      "1.0\n"
     ]
    }
   ],
   "source": [
    "volume = engine.getProperty('volume')\n",
    "print(volume)\n",
    "engine.setProperty('volume',1.0)"
   ]
  },
  {
   "cell_type": "code",
   "execution_count": 16,
   "metadata": {},
   "outputs": [
    {
     "name": "stdout",
     "output_type": "stream",
     "text": [
      "[<pyttsx3.voice.Voice object at 0x000001546D1E8490>, <pyttsx3.voice.Voice object at 0x000001546D1E99D0>]\n"
     ]
    }
   ],
   "source": [
    "voices = speaker.getProperty('voices')\n",
    "print(voices)\n",
    "#changing index, changes voices, 0 for male\n",
    "speaker.setProperty('voice', voices[0].id)\n",
    "#changing index, changes voices, 1 for female\n",
    "speaker.setProperty('voice', voices[1].id)"
   ]
  }
 ],
 "metadata": {
  "kernelspec": {
   "display_name": "Python 3",
   "language": "python",
   "name": "python3"
  },
  "language_info": {
   "codemirror_mode": {
    "name": "ipython",
    "version": 3
   },
   "file_extension": ".py",
   "mimetype": "text/x-python",
   "name": "python",
   "nbconvert_exporter": "python",
   "pygments_lexer": "ipython3",
   "version": "3.11.2"
  },
  "orig_nbformat": 4
 },
 "nbformat": 4,
 "nbformat_minor": 2
}
