{
 "cells": [
  {
   "cell_type": "code",
   "execution_count": 1,
   "metadata": {},
   "outputs": [
    {
     "name": "stdout",
     "output_type": "stream",
     "text": [
      "A temperatura em Celsius é: 100.0 °C\n",
      "A temperatura em Fahrenheit é: 212.0 °F\n",
      "A temperatura em Kelvin é: 373.0 K\n"
     ]
    }
   ],
   "source": [
    "c = float(input(\"Digite a temperatura em Celsius:\"))\n",
    "f = 32 + (9/5)*c\n",
    "k = c + 273\n",
    "print(\"A temperatura em Celsius é:\",c,\"°C\")\n",
    "print(\"A temperatura em Fahrenheit é:\",f,\"°F\")\n",
    "print(\"A temperatura em Kelvin é:\",k,\"K\")"
   ]
  },
  {
   "cell_type": "code",
   "execution_count": 2,
   "metadata": {},
   "outputs": [
    {
     "name": "stdout",
     "output_type": "stream",
     "text": [
      "Programa para Conversão de Temperaturas\n",
      "1. Converter de Celsius para Fahrenheit\n",
      "2. Converter de Fahrenheit para Celsius\n",
      "Valor em Fahrenheit: 3632.0°F\n"
     ]
    }
   ],
   "source": [
    "# Conversor de Unidades: Graus Celsius e Fahrenheit\n",
    "\n",
    "def menu_inicial():\n",
    "    print('Programa para Conversão de Temperaturas')\n",
    "    print('1. Converter de Celsius para Fahrenheit')\n",
    "    print('2. Converter de Fahrenheit para Celsius')\n",
    "\n",
    "def cel_fahr():\n",
    "    C = float(input('Entre com a temperatura em graus Celsius: '))\n",
    "    F = C * (9 / 5) + 32\n",
    "    print('Valor em Fahrenheit: {0}°F'.format(F))\n",
    "\n",
    "def fahr_cel():\n",
    "    F = float(input('Entre com a temperatura em graus Fahrenheit: '))\n",
    "    C = (F - 32) * (5 / 9)\n",
    "    print('Valor em Celsius: {0}°C'.format(C))\n",
    "\n",
    "if __name__=='__main__':\n",
    "    menu_inicial()\n",
    "    escolha = input('Escolha o tipo de conversão que deseja realizar: ')\n",
    "\n",
    "    if escolha == '1':\n",
    "        cel_fahr()\n",
    "\n",
    "    if escolha == '2':\n",
    "        fahr_cel()"
   ]
  },
  {
   "cell_type": "code",
   "execution_count": 3,
   "metadata": {},
   "outputs": [
    {
     "name": "stdout",
     "output_type": "stream",
     "text": [
      "Convertido:  100.0  graus Celsius\n",
      "\n",
      "Convertido:  1112.0  graus Farenheit\n",
      "\n"
     ]
    },
    {
     "ename": "ValueError",
     "evalue": "invalid literal for int() with base 10: ''",
     "output_type": "error",
     "traceback": [
      "\u001b[1;31m---------------------------------------------------------------------------\u001b[0m",
      "\u001b[1;31mValueError\u001b[0m                                Traceback (most recent call last)",
      "Cell \u001b[1;32mIn[3], line 23\u001b[0m\n\u001b[0;32m     21\u001b[0m         \u001b[39melse\u001b[39;00m:\n\u001b[0;32m     22\u001b[0m             \u001b[39mprint\u001b[39m(\u001b[39m'\u001b[39m\u001b[39mOpção inválida\u001b[39m\u001b[39m'\u001b[39m)\n\u001b[1;32m---> 23\u001b[0m menu()\n",
      "Cell \u001b[1;32mIn[3], line 12\u001b[0m, in \u001b[0;36mmenu\u001b[1;34m()\u001b[0m\n\u001b[0;32m     10\u001b[0m \u001b[39mdef\u001b[39;00m \u001b[39mmenu\u001b[39m():\n\u001b[0;32m     11\u001b[0m     \u001b[39mwhile\u001b[39;00m \u001b[39mTrue\u001b[39;00m:\n\u001b[1;32m---> 12\u001b[0m         op \u001b[39m=\u001b[39m \u001b[39mint\u001b[39;49m(\u001b[39minput\u001b[39;49m(\u001b[39m'\u001b[39;49m\u001b[39m1. Celsius para Farenheit: \u001b[39;49m\u001b[39m\\n\u001b[39;49;00m\u001b[39m'\u001b[39;49m \u001b[39m+\u001b[39;49m\n\u001b[0;32m     13\u001b[0m                        \u001b[39m'\u001b[39;49m\u001b[39m2. Farenheit para Celsius: \u001b[39;49m\u001b[39m'\u001b[39;49m))\n\u001b[0;32m     15\u001b[0m         \u001b[39mif\u001b[39;00m op\u001b[39m==\u001b[39m\u001b[39m1\u001b[39m:\n\u001b[0;32m     16\u001b[0m             C\u001b[39m=\u001b[39m\u001b[39mint\u001b[39m( \u001b[39minput\u001b[39m(\u001b[39m'\u001b[39m\u001b[39mGraus Celsius: \u001b[39m\u001b[39m'\u001b[39m) )\n",
      "\u001b[1;31mValueError\u001b[0m: invalid literal for int() with base 10: ''"
     ]
    }
   ],
   "source": [
    "def C_para_F(C):\n",
    "    F = (C*9/5) + 32\n",
    "    return F\n",
    "\n",
    "def F_para_C(F):\n",
    "    C = (F-32)*5/9\n",
    "    return C\n",
    "\n",
    "\n",
    "def menu():\n",
    "    while True:\n",
    "        op = int(input('1. Celsius para Farenheit: \\n' +\n",
    "                       '2. Farenheit para Celsius: '))\n",
    "\n",
    "        if op==1:\n",
    "            C=int( input('Graus Celsius: ') )\n",
    "            print('Convertido: ', C_para_F(C),' graus Farenheit\\n')\n",
    "        elif op==2:\n",
    "            F=int( input('Graus Farenheit: ') )\n",
    "            print('Convertido: ', F_para_C(F),' graus Celsius\\n')\n",
    "        else:\n",
    "            print('Opção inválida')\n",
    "menu()"
   ]
  }
 ],
 "metadata": {
  "kernelspec": {
   "display_name": "Python 3",
   "language": "python",
   "name": "python3"
  },
  "language_info": {
   "codemirror_mode": {
    "name": "ipython",
    "version": 3
   },
   "file_extension": ".py",
   "mimetype": "text/x-python",
   "name": "python",
   "nbconvert_exporter": "python",
   "pygments_lexer": "ipython3",
   "version": "3.11.2"
  },
  "orig_nbformat": 4
 },
 "nbformat": 4,
 "nbformat_minor": 2
}
