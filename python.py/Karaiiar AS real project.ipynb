{
 "cells": [
  {
   "cell_type": "code",
   "execution_count": 1,
   "metadata": {},
   "outputs": [
    {
     "name": "stdout",
     "output_type": "stream",
     "text": [
      "Requirement already satisfied: speechrecognition in c:\\users\\black dell\\appdata\\local\\programs\\python\\python311\\lib\\site-packages (3.10.0)Note: you may need to restart the kernel to use updated packages.\n"
     ]
    },
    {
     "name": "stderr",
     "output_type": "stream",
     "text": [
      "\n",
      "[notice] A new release of pip available: 22.3.1 -> 23.1.2\n",
      "[notice] To update, run: python.exe -m pip install --upgrade pip\n"
     ]
    },
    {
     "name": "stdout",
     "output_type": "stream",
     "text": [
      "\n",
      "Requirement already satisfied: pyttsx3 in c:\\users\\black dell\\appdata\\local\\programs\\python\\python311\\lib\\site-packages (2.90)\n",
      "Requirement already satisfied: requests>=2.26.0 in c:\\users\\black dell\\appdata\\local\\programs\\python\\python311\\lib\\site-packages (from speechrecognition) (2.30.0)\n",
      "Requirement already satisfied: comtypes in c:\\users\\black dell\\appdata\\local\\programs\\python\\python311\\lib\\site-packages (from pyttsx3) (1.1.14)\n",
      "Requirement already satisfied: pypiwin32 in c:\\users\\black dell\\appdata\\local\\programs\\python\\python311\\lib\\site-packages (from pyttsx3) (223)\n",
      "Requirement already satisfied: pywin32 in c:\\users\\black dell\\appdata\\roaming\\python\\python311\\site-packages (from pyttsx3) (306)\n",
      "Requirement already satisfied: charset-normalizer<4,>=2 in c:\\users\\black dell\\appdata\\local\\programs\\python\\python311\\lib\\site-packages (from requests>=2.26.0->speechrecognition) (3.1.0)\n",
      "Requirement already satisfied: idna<4,>=2.5 in c:\\users\\black dell\\appdata\\local\\programs\\python\\python311\\lib\\site-packages (from requests>=2.26.0->speechrecognition) (3.4)\n",
      "Requirement already satisfied: urllib3<3,>=1.21.1 in c:\\users\\black dell\\appdata\\local\\programs\\python\\python311\\lib\\site-packages (from requests>=2.26.0->speechrecognition) (2.0.2)\n",
      "Requirement already satisfied: certifi>=2017.4.17 in c:\\users\\black dell\\appdata\\local\\programs\\python\\python311\\lib\\site-packages (from requests>=2.26.0->speechrecognition) (2023.5.7)\n"
     ]
    }
   ],
   "source": [
    "pip install speechrecognition pyttsx3\n"
   ]
  },
  {
   "cell_type": "code",
   "execution_count": 9,
   "metadata": {},
   "outputs": [
    {
     "name": "stdout",
     "output_type": "stream",
     "text": [
      "Inicializando Sistema\n"
     ]
    },
    {
     "ename": "AttributeError",
     "evalue": "'Recognizer' object has no attribute 'reconize_google'",
     "output_type": "error",
     "traceback": [
      "\u001b[1;31m---------------------------------------------------------------------------\u001b[0m",
      "\u001b[1;31mAttributeError\u001b[0m                            Traceback (most recent call last)",
      "Cell \u001b[1;32mIn[9], line 47\u001b[0m\n\u001b[0;32m     44\u001b[0m             falar(\u001b[39m\"\u001b[39m\u001b[39mNão te entendo\u001b[39m\u001b[39m\"\u001b[39m)\n\u001b[0;32m     46\u001b[0m \u001b[39mif\u001b[39;00m \u001b[39m__name__\u001b[39m\u001b[39m==\u001b[39m\u001b[39m\"\u001b[39m\u001b[39m__main__\u001b[39m\u001b[39m\"\u001b[39m:\n\u001b[1;32m---> 47\u001b[0m     main()\n",
      "Cell \u001b[1;32mIn[9], line 33\u001b[0m, in \u001b[0;36mmain\u001b[1;34m()\u001b[0m\n\u001b[0;32m     31\u001b[0m \u001b[39mdef\u001b[39;00m \u001b[39mmain\u001b[39m():\n\u001b[0;32m     32\u001b[0m     \u001b[39mwhile\u001b[39;00m \u001b[39mTrue\u001b[39;00m:\n\u001b[1;32m---> 33\u001b[0m         frase \u001b[39m=\u001b[39m ouvir()\n\u001b[0;32m     35\u001b[0m         \u001b[39m# Verificar a frase e fornecer a resposta adequada\u001b[39;00m\n\u001b[0;32m     36\u001b[0m         \u001b[39mif\u001b[39;00m \u001b[39m\"\u001b[39m\u001b[39mOlá\u001b[39m\u001b[39m\"\u001b[39m \u001b[39min\u001b[39;00m frase:\n",
      "Cell \u001b[1;32mIn[9], line 17\u001b[0m, in \u001b[0;36mouvir\u001b[1;34m()\u001b[0m\n\u001b[0;32m     14\u001b[0m audio \u001b[39m=\u001b[39m r\u001b[39m.\u001b[39mlisten(source)\n\u001b[0;32m     16\u001b[0m \u001b[39mtry\u001b[39;00m:\n\u001b[1;32m---> 17\u001b[0m     texto \u001b[39m=\u001b[39m r\u001b[39m.\u001b[39;49mreconize_google(audio, language\u001b[39m=\u001b[39m\u001b[39m'\u001b[39m\u001b[39mpt-BR\u001b[39m\u001b[39m'\u001b[39m)\n\u001b[0;32m     18\u001b[0m     \u001b[39mprint\u001b[39m(\u001b[39m'\u001b[39m\u001b[39mVocê disse:\u001b[39m\u001b[39m'\u001b[39m\u001b[39m+\u001b[39m texto)\n\u001b[0;32m     19\u001b[0m     \u001b[39mreturn\u001b[39;00m texto\n",
      "\u001b[1;31mAttributeError\u001b[0m: 'Recognizer' object has no attribute 'reconize_google'"
     ]
    }
   ],
   "source": [
    "import speech_recognition as sr \n",
    "import pyttsx3\n",
    "\n",
    "# Inicializar o reconhecimento de fala\n",
    "r = sr.Recognizer()\n",
    "\n",
    "# Icializar o mecanismo de síntese de fala\n",
    "engine = pyttsx3.init()\n",
    "\n",
    "# Fnução para ouvir e reconhecer a fala\n",
    "def ouvir():\n",
    "    with sr.Microphone() as source:\n",
    "        print('Inicializando Sistema')\n",
    "        audio = r.listen(source)\n",
    "\n",
    "        try:\n",
    "            texto = r.reconize_google(audio, language='pt-BR')\n",
    "            print('Você disse:'+ texto)\n",
    "            return texto\n",
    "        except sr.UnknownValueError:\n",
    "            print('num te entendi')\n",
    "        except sr.RequestError as e:\n",
    "            print('Mano eu não to te entendendo; {0}'.format(e))\n",
    "\n",
    "# Função para falar a resposta\n",
    "def falar(texto):\n",
    "    engine.say(texto)\n",
    "    engine.runAndWait()\n",
    "\n",
    "# Função principal\n",
    "def main():\n",
    "    while True:\n",
    "        frase = ouvir()\n",
    "\n",
    "        # Verificar a frase e fornecer a resposta adequada\n",
    "        if \"Olá\" in frase:\n",
    "            falar(\"Coé, o que você precisa?\")\n",
    "        elif \"qual é o seu nome\" in frase:\n",
    "            falar(\"Meu nome é Karaiiar\")\n",
    "        elif \"tchau\" in frase:\n",
    "            falar(\"Inté\")\n",
    "            break\n",
    "        else:\n",
    "            falar(\"Não te entendo\")\n",
    "\n",
    "if __name__==\"__main__\":\n",
    "    main()\n",
    "\n",
    " \n"
   ]
  }
 ],
 "metadata": {
  "kernelspec": {
   "display_name": "Python 3",
   "language": "python",
   "name": "python3"
  },
  "language_info": {
   "codemirror_mode": {
    "name": "ipython",
    "version": 3
   },
   "file_extension": ".py",
   "mimetype": "text/x-python",
   "name": "python",
   "nbconvert_exporter": "python",
   "pygments_lexer": "ipython3",
   "version": "3.11.2"
  },
  "orig_nbformat": 4
 },
 "nbformat": 4,
 "nbformat_minor": 2
}
