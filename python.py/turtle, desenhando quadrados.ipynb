{
 "cells": [
  {
   "cell_type": "code",
   "execution_count": 1,
   "metadata": {},
   "outputs": [],
   "source": [
    "import turtle\n",
    "\n",
    "def desenhaQuadradoMulticolorido(t, tam):\n",
    "    \"\"\"Faca a tartaruga t desenhar um quadrado multicolorido de lado tam.\"\"\"\n",
    "    for i in ['red','purple','hotpink','blue']:\n",
    "        t.color(i)\n",
    "        t.forward(tam)\n",
    "        t.left(90)\n",
    "\n",
    "wn = turtle.Screen()              # Inicializa a janela e seus atributos\n",
    "wn.bgcolor(\"lightgreen\")\n",
    "\n",
    "tess = turtle.Turtle()            # cria tess e seus atributos\n",
    "tess.pensize(3)\n",
    "\n",
    "tamanho = 20                      # tamanho do menor quadrado\n",
    "for i in range(15):\n",
    "    desenhaQuadradoMulticolorido(tess, tamanho)\n",
    "    tamanho = tamanho + 10       # aumenta o tamanho para a próxima vez\n",
    "    tess.forward(10)             # move tess um pouco à frente\n",
    "    tess.right(18)               # e dá uma virada nela\n",
    "\n",
    "wn.exitonclick()"
   ]
  }
 ],
 "metadata": {
  "kernelspec": {
   "display_name": "Python 3",
   "language": "python",
   "name": "python3"
  },
  "language_info": {
   "codemirror_mode": {
    "name": "ipython",
    "version": 3
   },
   "file_extension": ".py",
   "mimetype": "text/x-python",
   "name": "python",
   "nbconvert_exporter": "python",
   "pygments_lexer": "ipython3",
   "version": "3.11.2"
  },
  "orig_nbformat": 4
 },
 "nbformat": 4,
 "nbformat_minor": 2
}
